{
  "nbformat": 4,
  "nbformat_minor": 0,
  "metadata": {
    "colab": {
      "provenance": []
    },
    "kernelspec": {
      "name": "python3",
      "display_name": "Python 3"
    },
    "language_info": {
      "name": "python"
    }
  },
  "cells": [
    {
      "cell_type": "markdown",
      "source": [
        "# Data Types and Structures Questions Theory Question\n",
        "ANSWER .1)\n",
        "Data structures are ways of organizing and storing data in a computer so it can be accessed and modified efficiently. They’re like containers or blueprints for managing data in various formats depending on the task. They help you store and retrieve data quickly. Keep your data neat and logical, especially for complex programs.\n",
        "\n",
        "ANSWER .2)\n",
        "Mutable data types can be modified, meaning you can change their content without creating a new object. Examples include lists, dictionaries, and sets. For instance, you can add an item to a list or update the value of a dictionary key, and the original object will reflect those changes.\n",
        " On the other hand, immutable data types cannot be changed once they are created. If you try to modify them, a new object is created instead. Examples of immutable types include strings, tuples, and numbers. For example, strings cannot be altered in place; to change a string, you must create a new one.\n",
        "\n",
        "ANSWER 3.)\n",
        "Lists are mutable, meaning their contents can be changed after creation—you can add, remove, or modify elements. In terms of syntax, lists use square brackets (e.g., [1, 2, 3]). Lists are typically used when working with collections of items that may need modification.\n",
        "Tuples, on the other hand, are immutable, so once they are created, their contents cannot be altered. This immutability makes tuples faster and more memory-efficient than lists, especially in scenarios where data doesn't need to change.\n",
        "\n",
        "ANSWER .4)\n",
        "In Python, dictionaries store data in the form of key-value pairs, using a structure called a hash table. Each item in a dictionary consists of a unique key that maps to a value. When a key is added to the dictionary, Python uses a process called hashing to convert the key into a unique hash value, which is then used to determine where the value will be stored in memory.\n",
        "\n",
        "ANSWER .5)\n",
        "You might use a set instead of a list in Python when you need to store unique items and perform fast membership tests. Sets automatically eliminate duplicate values, so if you want to ensure that your data contains no repeats, a set is the ideal choice. For example, set([1, 2, 2, 3]) will result in {1, 2, 3}.\n",
        "\n",
        "ANSWER.6)\n",
        "A string is a sequence of characters enclosed in single, double, or triple quotes—for example, \"hello\" or 'Python'. It is used to represent text and can include letters, numbers, symbols, and spaces. A list, on the other hand, is a sequence of items, which can be of any data type, including numbers, strings, or even other lists.\n",
        "\n",
        "ANSWER .7)\n",
        "Tuples help ensure data integrity in Python by being immutable, meaning their contents cannot be changed after creation. Once a tuple is defined, you cannot add, remove, or modify its elements. This immutability makes tuples reliable for storing fixed collections of data that should not be accidentally altered, such as coordinates, configuration settings, or function arguments that must remain constant.\n",
        "\n",
        "ANSWER.8)\n",
        "A hash table is a data structure that stores key-value pairs and allows for very fast data access using a technique called hashing. In Python, the built-in dict (dictionary) is implemented using a hash table behind the scenes.\n",
        "When you store a value in a dictionary, Python takes the key, runs it through a hash function, and converts it into a unique hash value (a number). This hash value determines where the key-value pair is stored in memory.\n",
        "\n",
        "ANSWER.9)\n",
        "Yes, lists in Python 3 can contain different data types. Unlike arrays in some other programming languages, Python lists are flexible and dynamic, meaning each element in a list can be of a different type. For example, a single list can hold integers, strings, floats, booleans, or even other lists.\n",
        "\n",
        "ANSWER.10)\n",
        " Strings are immutable in Python because once a string is created, its contents cannot be changed. First, immutability makes strings more memory-efficient and faster, especially since strings are used very frequently in programming. When multiple variables hold the same string, Python can safely point them to the same memory location without worrying that one might accidentally change the content for all others.\n",
        "\n",
        "ANSWER.11)\n",
        "Dictionaries offer several advantages over lists for certain tasks, especially when it comes to fast data access and organization. The main advantage is that dictionaries store data in key-value pairs, allowing you to access values directly using a unique key rather than searching through a sequence of items. This provides constant-time lookup on average, which is much faster than the linear-time search required in a list. Additionally, dictionaries are ideal when you need to map relationships between items, like storing configuration settings, counting occurrences, or grouping related data.\n",
        "\n",
        "ANSWER.12)\n",
        "Using a tuple would be preferable over a list in a scenario where you need to store a fixed set of values that should not change. For example, if you're storing geographic coordinates like latitude and longitude—say (40.7128, -74.0060) for New York City—a tuple is ideal because these values represent a single, constant piece of data that shouldn’t be altered. Tuples are immutable, which ensures the data remains consistent throughout the program.\n",
        "\n",
        "ANSWER.13)\n",
        "In Python, sets automatically remove duplicate values. When you create a set, any repeated elements are filtered out so that only unique items are stored. This is because sets are designed to represent unordered collections of distinct elements.\n",
        "\n",
        "ANSWER.14)\n",
        "The in keyword is used in both lists and dictionaries in Python, but it works a bit differently depending on the data structure.\n",
        "\n",
        "\n",
        "ANSWER.15)\n",
        "No, you cannot modify the elements of a tuple in Python because tuples are immutable. This means that once a tuple is created, its contents—meaning the number of elements and the values of those elements—cannot be changed. You can’t add, remove, or alter items in a tuple after it's been defined. This immutability is intentional and helps ensure data integrity, especially when a fixed set of values is required.\n",
        "\n",
        "ANSWER.16)\n",
        "A nested dictionary in Python is a dictionary where values themselves are dictionaries. This creates a structure that allows you to organize and access data in multiple levels, like a dictionary inside another dictionary. For Example:\n",
        " students = {\n",
        "    \"student1\": {\"name\": \"Alice\", \"age\": 20, \"grade\": \"A\"},\n",
        "    \"student2\": {\"name\": \"Bob\", \"age\": 22, \"grade\": \"B\"},\n",
        "}\n",
        "\n",
        "ANSWER.17)\n",
        "Accessing elements in a dictionary in Python has an average-case time complexity of O(1), which means it takes constant time regardless of the dictionary’s size. This efficiency is due to the underlying hash table structure that Python uses to store dictionaries.\n",
        "\n",
        "ANSWER.18)\n",
        "Lists are preferred over dictionaries in situations where you need to store ordered collections of items and don't require unique keys. Lists are ideal when the position of elements matters, such as when you need to maintain sequence, use index-based access, or iterate in a specific order. They're also simpler to use when working with homogeneous data, like a list of numbers, names, or objects where keys aren’t necessary.\n",
        "\n",
        "ANSWER.19)\n",
        "Dictionaries in older versions of Python (before Python 3.7) were considered unordered, meaning they didn’t preserve the order in which key-value pairs were added. This was because dictionaries used hash tables, which focus on fast access rather than maintaining order. As a result, when you iterated over a dictionary, the items could appear in any order, and you couldn't rely on them being in the same sequence every time.\n",
        "This affects data retrieval in that you retrieve values by key, not by position. If you need to keep things in order of insertion (like a recent history of changes), modern dictionaries will now maintain that. But if you care about actual index-based access or ordering by value, you’re still better off using a list or applying sorting logic to the dictionary items.\n",
        "\n",
        "ANSWER.20)\n",
        "The main difference between a list and a dictionary in terms of data retrieval is how you access the data.\n",
        "In a list, data is retrieved using numeric indices. Each item has a specific position starting from index 0, so you access items like my_list[0] to get the first element. This works well when the order of elements matters or when you need to loop through items in sequence.\n",
        "In contrast, a dictionary retrieves data using keys, not positions. Each item is stored as a key-value pair, and you access values by their key, like my_dict[\"name\"]. This allows for faster lookups (on average O(1) time complexity), especially when you need to find data based on a label or identifier, not by position.\n",
        "\n",
        "\n"
      ],
      "metadata": {
        "id": "DQ8PQuZvrI5W"
      }
    },
    {
      "cell_type": "markdown",
      "source": [
        "# Practical Questions\n"
      ],
      "metadata": {
        "id": "3KJYalItq_n7"
      }
    },
    {
      "cell_type": "code",
      "source": [
        "# 1. Write a code to create a string with your name and print it\n",
        "name = \"Yugal Singh\"\n",
        "print(name)"
      ],
      "metadata": {
        "colab": {
          "base_uri": "https://localhost:8080/"
        },
        "id": "tokDNWsmiMjh",
        "outputId": "640b754e-9f61-42cd-d184-caa8d771241b"
      },
      "execution_count": 1,
      "outputs": [
        {
          "output_type": "stream",
          "name": "stdout",
          "text": [
            "Yugal Singh\n"
          ]
        }
      ]
    },
    {
      "cell_type": "code",
      "source": [
        "# 2. Write a code to find the length of the string \"Hello World\"P\n",
        "print(len(\"Hello World\"))"
      ],
      "metadata": {
        "colab": {
          "base_uri": "https://localhost:8080/"
        },
        "id": "6CFTv_3fibRS",
        "outputId": "7219c770-62db-4b75-d76a-412e40981e40"
      },
      "execution_count": 2,
      "outputs": [
        {
          "output_type": "stream",
          "name": "stdout",
          "text": [
            "11\n"
          ]
        }
      ]
    },
    {
      "cell_type": "code",
      "source": [
        "# 3. Write a code to slice the first 3 characters from the string \"Python Programming\"\n",
        "s = \"Python Programming\"\n",
        "print(s[:3])\n"
      ],
      "metadata": {
        "colab": {
          "base_uri": "https://localhost:8080/"
        },
        "id": "nwescWn0inxo",
        "outputId": "3b13b782-65e6-4373-980f-c4d2352f61c9"
      },
      "execution_count": 3,
      "outputs": [
        {
          "output_type": "stream",
          "name": "stdout",
          "text": [
            "Pyt\n"
          ]
        }
      ]
    },
    {
      "cell_type": "code",
      "source": [
        "# 4. Write a code to convert the string \"hello\" to uppercase\n",
        "print(\"hello\".upper())\n",
        "\n"
      ],
      "metadata": {
        "colab": {
          "base_uri": "https://localhost:8080/"
        },
        "id": "9bOfejROi8GQ",
        "outputId": "f84374f1-7eb0-488d-a66d-f06612f6d420"
      },
      "execution_count": 4,
      "outputs": [
        {
          "output_type": "stream",
          "name": "stdout",
          "text": [
            "HELLO\n"
          ]
        }
      ]
    },
    {
      "cell_type": "code",
      "source": [
        "# 5. Write a code to replace the word \"apple\" with \"orange\" in the string \"I like apple\"\n",
        "s = \"I like apple\"\n",
        "print(s.replace(\"apple\", \"orange\"))"
      ],
      "metadata": {
        "colab": {
          "base_uri": "https://localhost:8080/"
        },
        "id": "n7sBksG7jcs9",
        "outputId": "e361d21a-850c-4ec2-d012-dc32b2272c33"
      },
      "execution_count": 5,
      "outputs": [
        {
          "output_type": "stream",
          "name": "stdout",
          "text": [
            "I like orange\n"
          ]
        }
      ]
    },
    {
      "cell_type": "code",
      "source": [
        "# 6. Write a code to create a list with numbers 1 to 5 and print it\n",
        "numbers = [1, 2, 3, 4, 5]\n",
        "print(numbers)"
      ],
      "metadata": {
        "colab": {
          "base_uri": "https://localhost:8080/"
        },
        "id": "Vyqjn3VAjxXx",
        "outputId": "9f4a2902-44e7-4004-d6f0-05bf6124cd0a"
      },
      "execution_count": 6,
      "outputs": [
        {
          "output_type": "stream",
          "name": "stdout",
          "text": [
            "[1, 2, 3, 4, 5]\n"
          ]
        }
      ]
    },
    {
      "cell_type": "code",
      "source": [
        "# 7. Write a code to append the number 10 to the list [1, 2, 3, 4]\n",
        "numbers = [1, 2, 3, 4]\n",
        "numbers.append(10)\n",
        "print(numbers)"
      ],
      "metadata": {
        "colab": {
          "base_uri": "https://localhost:8080/"
        },
        "id": "XZMl61FvkBax",
        "outputId": "95736ca9-66ca-41a3-8fc6-07aa2cc7a6fe"
      },
      "execution_count": 7,
      "outputs": [
        {
          "output_type": "stream",
          "name": "stdout",
          "text": [
            "[1, 2, 3, 4, 10]\n"
          ]
        }
      ]
    },
    {
      "cell_type": "code",
      "source": [
        "# 8. Write a code to remove the number 3 from the list [1, 2, 3, 4, 5]\n",
        "lst = [1, 2, 3, 4, 5]\n",
        "lst.remove(3)\n",
        "print(lst)"
      ],
      "metadata": {
        "colab": {
          "base_uri": "https://localhost:8080/"
        },
        "id": "G2Z2OdXEkaRV",
        "outputId": "51a5c0b4-0744-436b-c8b5-8b43f77ac9cb"
      },
      "execution_count": 8,
      "outputs": [
        {
          "output_type": "stream",
          "name": "stdout",
          "text": [
            "[1, 2, 4, 5]\n"
          ]
        }
      ]
    },
    {
      "cell_type": "code",
      "source": [
        "# 9. Write a code to access the second element in the list ['a', 'b', 'c', 'd']\n",
        "lst = ['a', 'b', 'c', 'd']\n",
        "print(lst[1])"
      ],
      "metadata": {
        "colab": {
          "base_uri": "https://localhost:8080/"
        },
        "id": "1e3_xkGelY6-",
        "outputId": "6db3c4d2-132c-4d07-a077-1653abe6ea8f"
      },
      "execution_count": 9,
      "outputs": [
        {
          "output_type": "stream",
          "name": "stdout",
          "text": [
            "b\n"
          ]
        }
      ]
    },
    {
      "cell_type": "code",
      "source": [
        "# 10. Write a code to reverse the list [10, 20, 30, 40, 50].\n",
        "lst = ['a', 'b', 'c', 'd']\n",
        "lst.insert(2, 'e')\n",
        "print(lst)"
      ],
      "metadata": {
        "colab": {
          "base_uri": "https://localhost:8080/"
        },
        "id": "pq1RfsQhlqqZ",
        "outputId": "ccffc12c-4255-4d92-f67b-37dfe40ff004"
      },
      "execution_count": 10,
      "outputs": [
        {
          "output_type": "stream",
          "name": "stdout",
          "text": [
            "['a', 'b', 'e', 'c', 'd']\n"
          ]
        }
      ]
    },
    {
      "cell_type": "code",
      "source": [
        "# 11. Write a code to create a tuple with the elements 100, 200, 300 and print it.\n",
        "tup = (100, 200, 300)\n",
        "print(tup)\n"
      ],
      "metadata": {
        "colab": {
          "base_uri": "https://localhost:8080/"
        },
        "id": "IitNcnHNlu4H",
        "outputId": "36239f01-3a03-434d-c4e3-bfac26a364c2"
      },
      "execution_count": 11,
      "outputs": [
        {
          "output_type": "stream",
          "name": "stdout",
          "text": [
            "(100, 200, 300)\n"
          ]
        }
      ]
    },
    {
      "cell_type": "code",
      "source": [
        "# 12. Write a code to access the second-to-last element of the tuple ('red', 'green', 'blue', 'yellow').\n",
        "tup = ('red', 'green', 'blue', 'yellow')\n",
        "print(tup[-2])\n",
        "\n"
      ],
      "metadata": {
        "colab": {
          "base_uri": "https://localhost:8080/"
        },
        "id": "FwtfX62xnkbK",
        "outputId": "a1a31eb9-0329-458a-8286-b1412d748f85"
      },
      "execution_count": 12,
      "outputs": [
        {
          "output_type": "stream",
          "name": "stdout",
          "text": [
            "blue\n"
          ]
        }
      ]
    },
    {
      "cell_type": "code",
      "source": [
        "# 13. Write a code to find the minimum number in the tuple (10, 20, 5, 15).\n",
        "tup = (10, 20, 5, 15)\n",
        "print(min(tup))"
      ],
      "metadata": {
        "colab": {
          "base_uri": "https://localhost:8080/"
        },
        "id": "oMmXF7foqAJl",
        "outputId": "4fe125ce-f1da-4ac8-ce5f-cda1e0df4973"
      },
      "execution_count": 14,
      "outputs": [
        {
          "output_type": "stream",
          "name": "stdout",
          "text": [
            "5\n"
          ]
        }
      ]
    },
    {
      "cell_type": "code",
      "source": [
        "# 14. Write a code to find the index of the element \"cat\" in the tuple ('dog', 'cat', 'rabbit').\n",
        "tup = ('dog', 'cat', 'rabbit')\n",
        "print(tup.index('cat'))"
      ],
      "metadata": {
        "colab": {
          "base_uri": "https://localhost:8080/"
        },
        "id": "9XjvLx6ln7dQ",
        "outputId": "06260739-f1ac-4d19-ca0b-74f2212f9f48"
      },
      "execution_count": 31,
      "outputs": [
        {
          "output_type": "stream",
          "name": "stdout",
          "text": [
            "1\n"
          ]
        }
      ]
    },
    {
      "cell_type": "code",
      "source": [
        "# 15. Write a code to create a tuple containing three different fruits and check if \"kiwi\" is in it.\n",
        "fruits = ('apple', 'banana', 'mango')\n",
        "print('kiwi' in fruits)"
      ],
      "metadata": {
        "colab": {
          "base_uri": "https://localhost:8080/"
        },
        "id": "v8paqfbhn_pf",
        "outputId": "dd1aa3b2-d8e4-4192-d00a-f1c364b58b75"
      },
      "execution_count": 30,
      "outputs": [
        {
          "output_type": "stream",
          "name": "stdout",
          "text": [
            "False\n"
          ]
        }
      ]
    },
    {
      "cell_type": "code",
      "source": [
        "# 16. Write a code to create a set with the elements 'a', 'b', 'c' and print it.\n",
        "s = {'a', 'b', 'c'}\n",
        "print(s)"
      ],
      "metadata": {
        "colab": {
          "base_uri": "https://localhost:8080/"
        },
        "id": "3MThEPQPoEec",
        "outputId": "931a22e5-d9ff-46b7-a173-4e78b9f03128"
      },
      "execution_count": 29,
      "outputs": [
        {
          "output_type": "stream",
          "name": "stdout",
          "text": [
            "{'b', 'a', 'c'}\n"
          ]
        }
      ]
    },
    {
      "cell_type": "code",
      "source": [
        "# 17. Write a code to clear all elements from the set {1, 2, 3, 4, 5}.\n",
        "s = {1, 2, 3, 4, 5}\n",
        "s.clear()\n",
        "print(s)  #"
      ],
      "metadata": {
        "colab": {
          "base_uri": "https://localhost:8080/"
        },
        "id": "Hja3jBBgpNFa",
        "outputId": "2c0ac0c7-0715-4815-fe9a-77d570db2df0"
      },
      "execution_count": 15,
      "outputs": [
        {
          "output_type": "stream",
          "name": "stdout",
          "text": [
            "set()\n"
          ]
        }
      ]
    },
    {
      "cell_type": "code",
      "source": [
        "# 18. Write a code to remove the element 4 from the set {1, 2, 3, 4}.\n",
        "s = {1, 2, 3, 4}\n",
        "s.remove(4)\n",
        "print(s)"
      ],
      "metadata": {
        "colab": {
          "base_uri": "https://localhost:8080/"
        },
        "id": "h8feN8cwpPnp",
        "outputId": "e2802be6-7979-447f-c42c-4285777a8b61"
      },
      "execution_count": 16,
      "outputs": [
        {
          "output_type": "stream",
          "name": "stdout",
          "text": [
            "{1, 2, 3}\n"
          ]
        }
      ]
    },
    {
      "cell_type": "code",
      "source": [
        "# 19. Write a code to find the union of two sets {1, 2, 3} and {3, 4, 5}.\n",
        "set1 = {1, 2, 3}\n",
        "set2 = {3, 4, 5}\n",
        "print(set1.union(set2))"
      ],
      "metadata": {
        "colab": {
          "base_uri": "https://localhost:8080/"
        },
        "id": "dR7Cauy8pTXa",
        "outputId": "a154d736-f9c6-4b7d-a982-d435bb1fef00"
      },
      "execution_count": 17,
      "outputs": [
        {
          "output_type": "stream",
          "name": "stdout",
          "text": [
            "{1, 2, 3, 4, 5}\n"
          ]
        }
      ]
    },
    {
      "cell_type": "code",
      "source": [
        "# 20. Write a code to find the intersection of two sets {1, 2, 3} and {2, 3, 4}.\n",
        "set1 = {1, 2, 3}\n",
        "set2 = {2, 3, 4}\n",
        "print(set1.intersection(set2))"
      ],
      "metadata": {
        "colab": {
          "base_uri": "https://localhost:8080/"
        },
        "id": "C63YCqL3pW1T",
        "outputId": "6bbebe38-37ad-40ea-896c-c8f12d409b1a"
      },
      "execution_count": 18,
      "outputs": [
        {
          "output_type": "stream",
          "name": "stdout",
          "text": [
            "{2, 3}\n"
          ]
        }
      ]
    },
    {
      "cell_type": "code",
      "source": [
        "# 21. Write a code to create a dictionary with the keys “name”, “age”, and “city”, and print it.\n",
        "person = {\"name\": \"John\", \"age\": 25, \"city\": \"New York\"}\n",
        "print(person)"
      ],
      "metadata": {
        "colab": {
          "base_uri": "https://localhost:8080/"
        },
        "id": "g8FAVfQGpZ-m",
        "outputId": "16385b49-00e4-4d9e-c4f2-19caa1011038"
      },
      "execution_count": 19,
      "outputs": [
        {
          "output_type": "stream",
          "name": "stdout",
          "text": [
            "{'name': 'John', 'age': 25, 'city': 'New York'}\n"
          ]
        }
      ]
    },
    {
      "cell_type": "code",
      "source": [
        "# 22. Write a code to add a new key-value pair “country”: “USA” to the dictionary {‘name’: ‘John’, ‘age’: 25}.\n",
        "person = {'name': 'John', 'age': 25}\n",
        "person['country'] = 'USA'\n",
        "print(person)"
      ],
      "metadata": {
        "colab": {
          "base_uri": "https://localhost:8080/"
        },
        "id": "4WCBVqw_pk1A",
        "outputId": "884d2299-3ea8-4bea-fc86-872ed107b642"
      },
      "execution_count": 20,
      "outputs": [
        {
          "output_type": "stream",
          "name": "stdout",
          "text": [
            "{'name': 'John', 'age': 25, 'country': 'USA'}\n"
          ]
        }
      ]
    },
    {
      "cell_type": "code",
      "source": [
        "# 23. Write a code to access the value associated with the key “name” in the dictionary {‘name’: ‘Alice’, ‘age’: 30}.\n",
        "person = {'name': 'Alice', 'age': 30}\n",
        "print(person['name'])"
      ],
      "metadata": {
        "colab": {
          "base_uri": "https://localhost:8080/"
        },
        "id": "jVwOsbGoppoo",
        "outputId": "90ab91ed-87d9-40cf-ee70-9c6292fc379a"
      },
      "execution_count": 21,
      "outputs": [
        {
          "output_type": "stream",
          "name": "stdout",
          "text": [
            "Alice\n"
          ]
        }
      ]
    },
    {
      "cell_type": "code",
      "source": [
        "# 24. Write a code to remove the key “age” from the dictionary {‘name’: ‘Bob’, ‘age’: 22, ‘city’: ‘New York’}.\n",
        "person = {'name': 'Bob', 'age': 22, 'city': 'New York'}\n",
        "del person['age']\n",
        "print(person)"
      ],
      "metadata": {
        "colab": {
          "base_uri": "https://localhost:8080/"
        },
        "id": "KbHxAUtqpq_n",
        "outputId": "d0796947-be68-4a02-e822-b7c7023587f9"
      },
      "execution_count": 22,
      "outputs": [
        {
          "output_type": "stream",
          "name": "stdout",
          "text": [
            "{'name': 'Bob', 'city': 'New York'}\n"
          ]
        }
      ]
    },
    {
      "cell_type": "code",
      "source": [
        "# 25. Write a code to check if the key “city” exists in the dictionary {‘name’: ‘Alice’, ‘city’: ‘Paris’}.\n",
        "person = {'name': 'Alice', 'city': 'Paris'}\n",
        "print('city' in person)"
      ],
      "metadata": {
        "colab": {
          "base_uri": "https://localhost:8080/"
        },
        "id": "GqewPe3RpuAk",
        "outputId": "3642854f-f12c-4fea-cdbe-497f5bc3ccdb"
      },
      "execution_count": 23,
      "outputs": [
        {
          "output_type": "stream",
          "name": "stdout",
          "text": [
            "True\n"
          ]
        }
      ]
    },
    {
      "cell_type": "code",
      "source": [
        "# 26. Write a code to create a list, a tuple, and a dictionary, and print them all.\n",
        "my_list = [1, 2, 3]\n",
        "my_tuple = (4, 5, 6)\n",
        "my_dict = {\"key\": \"value\"}\n",
        "print(my_list, my_tuple, my_dict)"
      ],
      "metadata": {
        "colab": {
          "base_uri": "https://localhost:8080/"
        },
        "id": "VUC9Ksrgpwe0",
        "outputId": "5658e12d-d758-48c5-f9c2-ffd052bb610d"
      },
      "execution_count": 24,
      "outputs": [
        {
          "output_type": "stream",
          "name": "stdout",
          "text": [
            "[1, 2, 3] (4, 5, 6) {'key': 'value'}\n"
          ]
        }
      ]
    },
    {
      "cell_type": "code",
      "source": [
        "# 27. Write a code to create a list of 5 random numbers between 1 and 100, sort it in ascending order, and print the result.\n",
        "import random\n",
        "numbers = [random.randint(1, 100) for _ in range(5)]\n",
        "numbers.sort()\n",
        "print(numbers)"
      ],
      "metadata": {
        "colab": {
          "base_uri": "https://localhost:8080/"
        },
        "id": "V2OwNCA9pzat",
        "outputId": "c617e260-1e7c-44d9-af59-11ec8d500ebd"
      },
      "execution_count": 25,
      "outputs": [
        {
          "output_type": "stream",
          "name": "stdout",
          "text": [
            "[21, 34, 64, 66, 94]\n"
          ]
        }
      ]
    },
    {
      "cell_type": "code",
      "source": [
        "# 28. Write a code to create a list with strings and print the element at the third index.\n",
        "lst = [\"apple\", \"banana\", \"cherry\", \"date\", \"elderberry\"]\n",
        "print(lst[3])"
      ],
      "metadata": {
        "colab": {
          "base_uri": "https://localhost:8080/"
        },
        "id": "aA16MRqop1-b",
        "outputId": "cdc82844-1731-4f44-98d8-a9d95f987cc8"
      },
      "execution_count": 26,
      "outputs": [
        {
          "output_type": "stream",
          "name": "stdout",
          "text": [
            "date\n"
          ]
        }
      ]
    },
    {
      "cell_type": "code",
      "source": [
        "# 29. Write a code to combine two dictionaries into one and print the result.\n",
        "dict1 = {'a': 1, 'b': 2}\n",
        "dict2 = {'c': 3, 'd': 4}\n",
        "combined = {**dict1, **dict2}\n",
        "print(combined)"
      ],
      "metadata": {
        "colab": {
          "base_uri": "https://localhost:8080/"
        },
        "id": "y3fmIpr4p4if",
        "outputId": "2bb77915-86cb-4d91-95fe-3231681f528e"
      },
      "execution_count": 27,
      "outputs": [
        {
          "output_type": "stream",
          "name": "stdout",
          "text": [
            "{'a': 1, 'b': 2, 'c': 3, 'd': 4}\n"
          ]
        }
      ]
    },
    {
      "cell_type": "code",
      "source": [
        "# 30. Write a code to convert a list of strings into a set.\n",
        "lst = [\"apple\", \"banana\", \"apple\"]\n",
        "my_set = set(lst)\n",
        "print(my_set)"
      ],
      "metadata": {
        "colab": {
          "base_uri": "https://localhost:8080/"
        },
        "id": "emT_hXnLp7xV",
        "outputId": "6dab2b99-1a15-4b83-fe4b-6a9fa96a5e94"
      },
      "execution_count": 28,
      "outputs": [
        {
          "output_type": "stream",
          "name": "stdout",
          "text": [
            "{'apple', 'banana'}\n"
          ]
        }
      ]
    }
  ]
}